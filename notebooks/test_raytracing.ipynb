{
 "cells": [
  {
   "cell_type": "code",
   "execution_count": 1,
   "source": [
    "using Test"
   ],
   "outputs": [],
   "metadata": {}
  },
  {
   "cell_type": "code",
   "execution_count": 2,
   "source": [
    "using Distributions"
   ],
   "outputs": [],
   "metadata": {}
  },
  {
   "cell_type": "code",
   "execution_count": 3,
   "source": [
    "using CSV, DataFrames"
   ],
   "outputs": [],
   "metadata": {}
  },
  {
   "cell_type": "code",
   "execution_count": 4,
   "source": [
    "using HDF5"
   ],
   "outputs": [],
   "metadata": {}
  },
  {
   "cell_type": "code",
   "execution_count": 5,
   "source": [
    "using Statistics\n",
    "using StatsBase\n",
    "using LinearAlgebra"
   ],
   "outputs": [],
   "metadata": {}
  },
  {
   "cell_type": "code",
   "execution_count": 6,
   "source": [
    "using Plots"
   ],
   "outputs": [],
   "metadata": {}
  },
  {
   "cell_type": "code",
   "execution_count": 7,
   "source": [
    "using Printf"
   ],
   "outputs": [],
   "metadata": {}
  },
  {
   "cell_type": "code",
   "execution_count": 8,
   "source": [
    "include(\"../src/ATools.jl\")"
   ],
   "outputs": [
    {
     "output_type": "execute_result",
     "data": {
      "text/plain": [
       "Main.ATools"
      ]
     },
     "metadata": {},
     "execution_count": 8
    }
   ],
   "metadata": {}
  },
  {
   "cell_type": "markdown",
   "source": [
    "# Tests\n",
    "1. test ray tracing"
   ],
   "metadata": {}
  },
  {
   "cell_type": "markdown",
   "source": [
    "### Tests ray-tracking"
   ],
   "metadata": {}
  },
  {
   "cell_type": "code",
   "execution_count": 9,
   "source": [
    "c = ATools.Cylinder(1.0, 0.0, 1.0) \n",
    "\n",
    "# check that point (1,0,0) verifies cylinder equation \n",
    "    \n",
    "\n",
    "@test ATools.cylinder_equation(c, [1.0, 0.0, 0.0]) ≈ 0.0\n",
    "@test ATools.cylinder_equation(c, [0.0, 1.0, 0.0]) ≈ 0.0\n",
    "@test isapprox(ATools.cylinder_equation(c, [1.0/sqrt(2.0), 1.0/sqrt(2.0), 0.0]), 0.0, atol=1e-9)\n"
   ],
   "outputs": [
    {
     "output_type": "execute_result",
     "data": {
      "text/plain": [
       "\u001b[32m\u001b[1mTest Passed\u001b[22m\u001b[39m"
      ]
     },
     "metadata": {},
     "execution_count": 9
    }
   ],
   "metadata": {}
  },
  {
   "cell_type": "code",
   "execution_count": 10,
   "source": [
    "nb = ATools.normal_to_barrel(c,  [1.0, 2.0, 3.0])\n",
    "@test dot(nb,[0.0, 0.0, 1.0]) ≈ 0.0"
   ],
   "outputs": [
    {
     "output_type": "execute_result",
     "data": {
      "text/plain": [
       "\u001b[32m\u001b[1mTest Passed\u001b[22m\u001b[39m"
      ]
     },
     "metadata": {},
     "execution_count": 10
    }
   ],
   "metadata": {}
  },
  {
   "cell_type": "code",
   "execution_count": 11,
   "source": [
    "ATools.cylinder_length(c)"
   ],
   "outputs": [
    {
     "output_type": "execute_result",
     "data": {
      "text/plain": [
       "1.0"
      ]
     },
     "metadata": {},
     "execution_count": 11
    }
   ],
   "metadata": {}
  },
  {
   "cell_type": "code",
   "execution_count": 12,
   "source": [
    "@test ATools.cylinder_length(c) ≈ 1.0\n",
    "    \n",
    "@test ATools.perimeter(c) ≈ 2 * π \n",
    "\n",
    "@test ATools.area_barrel(c) ≈ 2 * π \n",
    "    \n",
    "@test ATools.area_endcap(c) ≈ π \n",
    "    \n",
    "@test ATools.area(c) ≈ 4 * π\n",
    "\n",
    "@test ATools.volume(c) ≈ π "
   ],
   "outputs": [
    {
     "output_type": "execute_result",
     "data": {
      "text/plain": [
       "\u001b[32m\u001b[1mTest Passed\u001b[22m\u001b[39m"
      ]
     },
     "metadata": {},
     "execution_count": 12
    }
   ],
   "metadata": {}
  },
  {
   "cell_type": "code",
   "execution_count": 30,
   "source": [
    "function propagate(r::ATools.Ray, cy::ATools.Cylinder)\n",
    "    \n",
    "    # intersection roots \n",
    "    a = r.d[1]^2 + r.d[2]^2\n",
    "    b = 2 * (r.e[1] * r.d[1] + r.e[2] * r.d[2])\n",
    "    c = r.e[1]^2 + r.e[2]^2 - cy.r^2\n",
    "\n",
    "    println(\"r = \", r)\n",
    "    println(\"cyl = \", cy)\n",
    "    println(\"a =\",a, \" b = \", b, \" c = \", c)\n",
    "\n",
    "    # xray(t) propagates ray along t \n",
    "    xray = ATools.propagate_ray(r)\n",
    "\n",
    "    # If no real roots return nothing \n",
    "    arg = b^2 - 4*a*c\n",
    "\n",
    "    println(\"arg =\",arg)\n",
    "    if arg < 0\n",
    "        return nothing \n",
    "    end\n",
    "\n",
    "    # two possible roots \n",
    "    t1 = (-b + sqrt(arg))/(2*a)\n",
    "    t2 = (-b - sqrt(arg))/(2*a)\n",
    "\n",
    "    println(\"t1 =\",t1, \" t2 = \", t2)\n",
    "\n",
    "    # Z position of the two roots \n",
    "    z1 = r.e[3] + t1 * r.d[3]\n",
    "    z2 = r.e[3] + t2 * r.d[3]\n",
    "\n",
    "    println(\"z1 =\",z1, \" z2 = \", z2)\n",
    "\n",
    "    # belong-to-cylinder condition \n",
    "    zc1 = cy.zmin < z1 < cy.zmax\n",
    "    zc2 = cy.zmin < z2 < cy.zmax\n",
    "\n",
    "    println(\"zc1 =\",zc1, \" zc2 = \", zc2)\n",
    "\n",
    "    if zc1 == false && zc2 == false\n",
    "        return nothing\n",
    "    elseif zc1 == true && zc2 == false\n",
    "        return t1, xray(t1)\n",
    "    elseif zc1 == false && zc2 == true\n",
    "        return t2, xray(t2)\n",
    "    else\n",
    "        if t1 > 0 && t2 < 0\n",
    "            return t1, xray(t1)\n",
    "        elseif t1 < 0 && t2 > 0\n",
    "            return t2, xray(t2)\n",
    "        elseif t1 > 0 && t2 > 0\n",
    "\n",
    "            if t1 < t2 \n",
    "                return t1, xray(t1)\n",
    "            else\n",
    "                return t2, xray(t2)\n",
    "            end\n",
    "        else\n",
    "            return nothing\n",
    "        end\n",
    "    end\n",
    "end\n"
   ],
   "outputs": [
    {
     "output_type": "execute_result",
     "data": {
      "text/plain": [
       "propagate (generic function with 1 method)"
      ]
     },
     "metadata": {},
     "execution_count": 30
    }
   ],
   "metadata": {}
  },
  {
   "cell_type": "code",
   "execution_count": 37,
   "source": [
    "r1 = ATools.Ray([0.0,0.0,0.5],[0.0,1.0,0.0])\n",
    "t, p = propagate(r1, c)"
   ],
   "outputs": [
    {
     "output_type": "stream",
     "name": "stdout",
     "text": [
      "r = Main.ATools.Ray([0.0, 0.0, 0.5], [0.0, 1.0, 0.0], [0.0, -0.8944271909999159, 0.4472135954999579])\n",
      "cyl = Main.ATools.Cylinder(1.0, 0.0, 1.0)\n",
      "a =1.0 b = 0.0 c = -1.0\n",
      "arg =4.0\n",
      "t1 =1.0 t2 = -1.0\n",
      "z1 =0.5 z2 = 0.5\n",
      "zc1 =true zc2 = true\n"
     ]
    },
    {
     "output_type": "execute_result",
     "data": {
      "text/plain": [
       "(1.0, [0.0, 1.0, 0.5])"
      ]
     },
     "metadata": {},
     "execution_count": 37
    }
   ],
   "metadata": {}
  },
  {
   "cell_type": "code",
   "execution_count": 41,
   "source": [
    "p == [0.0, 1.0, 0.5]"
   ],
   "outputs": [
    {
     "output_type": "execute_result",
     "data": {
      "text/plain": [
       "true"
      ]
     },
     "metadata": {},
     "execution_count": 41
    }
   ],
   "metadata": {}
  },
  {
   "cell_type": "code",
   "execution_count": 32,
   "source": [
    "r = ATools.Ray([0.0,0.0,0.25],[0.0,1.0,0.0])"
   ],
   "outputs": [
    {
     "output_type": "execute_result",
     "data": {
      "text/plain": [
       "Main.ATools.Ray([0.0, 0.0, 0.25], [0.0, 1.0, 0.0], [0.0, -0.9701425001453319, 0.24253562503633297])"
      ]
     },
     "metadata": {},
     "execution_count": 32
    }
   ],
   "metadata": {}
  },
  {
   "cell_type": "code",
   "execution_count": 33,
   "source": [
    "propagate(r, c)"
   ],
   "outputs": [
    {
     "output_type": "stream",
     "name": "stdout",
     "text": [
      "r = Main.ATools.Ray([0.0, 0.0, 0.25], [0.0, 1.0, 0.0], [0.0, -0.9701425001453319, 0.24253562503633297])\n",
      "cyl = Main.ATools.Cylinder(1.0, 0.0, 1.0)\n",
      "a =1.0 b = 0.0 c = -1.0\n",
      "arg =4.0\n",
      "t1 =1.0 t2 = -1.0\n",
      "z1 =0.25 z2 = 0.25\n",
      "zc1 =true zc2 = true\n"
     ]
    },
    {
     "output_type": "execute_result",
     "data": {
      "text/plain": [
       "(1.0, [0.0, 1.0, 0.25])"
      ]
     },
     "metadata": {},
     "execution_count": 33
    }
   ],
   "metadata": {}
  },
  {
   "cell_type": "code",
   "execution_count": 42,
   "source": [
    "r = ATools.Ray([0.0,0.0,0.25],[sin(π/4.0),cos(π/4.0),0.0])"
   ],
   "outputs": [
    {
     "output_type": "execute_result",
     "data": {
      "text/plain": [
       "Main.ATools.Ray([0.0, 0.0, 0.25], [0.7071067811865475, 0.7071067811865476, 0.0], [-0.6859943405700353, -0.6859943405700354, 0.24253562503633297])"
      ]
     },
     "metadata": {},
     "execution_count": 42
    }
   ],
   "metadata": {}
  },
  {
   "cell_type": "code",
   "execution_count": 43,
   "source": [
    "propagate(r, c)"
   ],
   "outputs": [
    {
     "output_type": "stream",
     "name": "stdout",
     "text": [
      "r = Main.ATools.Ray([0.0, 0.0, 0.25], [0.7071067811865475, 0.7071067811865476, 0.0], [-0.6859943405700353, -0.6859943405700354, 0.24253562503633297])\n",
      "cyl = Main.ATools.Cylinder(1.0, 0.0, 1.0)\n",
      "a =1.0 b = 0.0 c = -1.0\n",
      "arg =4.0\n",
      "t1 =1.0 t2 = -1.0\n",
      "z1 =0.25 z2 = 0.25\n",
      "zc1 =true zc2 = true\n"
     ]
    },
    {
     "output_type": "execute_result",
     "data": {
      "text/plain": [
       "(1.0, [0.7071067811865475, 0.7071067811865476, 0.25])"
      ]
     },
     "metadata": {},
     "execution_count": 43
    }
   ],
   "metadata": {}
  },
  {
   "cell_type": "code",
   "execution_count": 75,
   "source": [
    "c = ATools.Cylinder(5.0, -100.0, 100.0) \n",
    "r = ATools.Ray([0.0,0.0,0.0],[sin(π/8.0),0.0,0.0])"
   ],
   "outputs": [
    {
     "output_type": "execute_result",
     "data": {
      "text/plain": [
       "Main.ATools.Ray([0.0, 0.0, 0.0], [0.3826834323650898, 0.0, 0.0], [-1.0, 0.0, 0.0])"
      ]
     },
     "metadata": {},
     "execution_count": 75
    }
   ],
   "metadata": {}
  },
  {
   "cell_type": "code",
   "execution_count": 76,
   "source": [
    "propagate(r, c)"
   ],
   "outputs": [
    {
     "output_type": "stream",
     "name": "stdout",
     "text": [
      "r = Main.ATools.Ray([0.0, 0.0, 0.0], [0.3826834323650898, 0.0, 0.0], [-1.0, 0.0, 0.0])\n",
      "cyl = Main.ATools.Cylinder(5.0, -100.0, 100.0)\n",
      "a =0.14644660940672624 b = 0.0 c = -25.0\n",
      "arg =14.644660940672624\n",
      "t1 =13.065629648763766 t2 = -13.065629648763766\n",
      "z1 =0.0 z2 = 0.0\n",
      "zc1 =true zc2 = true\n"
     ]
    },
    {
     "output_type": "execute_result",
     "data": {
      "text/plain": [
       "(13.065629648763766, [5.0, 0.0, 0.0])"
      ]
     },
     "metadata": {},
     "execution_count": 76
    }
   ],
   "metadata": {}
  }
 ],
 "metadata": {
  "kernelspec": {
   "display_name": "Julia 1.6.1",
   "language": "julia",
   "name": "julia-1.6"
  },
  "language_info": {
   "file_extension": ".jl",
   "mimetype": "application/julia",
   "name": "julia",
   "version": "1.6.1"
  }
 },
 "nbformat": 4,
 "nbformat_minor": 5
}